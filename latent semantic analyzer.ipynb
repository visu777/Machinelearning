{
 "cells": [
  {
   "cell_type": "code",
   "execution_count": 116,
   "metadata": {
    "collapsed": true
   },
   "outputs": [],
   "source": [
    "import nltk\n",
    "import numpy as np"
   ]
  },
  {
   "cell_type": "code",
   "execution_count": 117,
   "metadata": {
    "collapsed": false
   },
   "outputs": [],
   "source": [
    "from nltk.stem import WordNetLemmatizer"
   ]
  },
  {
   "cell_type": "code",
   "execution_count": 118,
   "metadata": {
    "collapsed": true
   },
   "outputs": [],
   "source": [
    "wordnet_lemmatizer = WordNetLemmatizer()"
   ]
  },
  {
   "cell_type": "code",
   "execution_count": 119,
   "metadata": {
    "collapsed": true
   },
   "outputs": [],
   "source": [
    "import matplotlib.pyplot as plt"
   ]
  },
  {
   "cell_type": "code",
   "execution_count": 120,
   "metadata": {
    "collapsed": true
   },
   "outputs": [],
   "source": [
    "from sklearn.decomposition import TruncatedSVD"
   ]
  },
  {
   "cell_type": "code",
   "execution_count": 121,
   "metadata": {
    "collapsed": true
   },
   "outputs": [],
   "source": [
    "text=[line.rstrip() for line in open('Book.txt')]"
   ]
  },
  {
   "cell_type": "code",
   "execution_count": 122,
   "metadata": {
    "collapsed": false
   },
   "outputs": [
    {
     "data": {
      "text/plain": [
       "['a', '', 'about', '', 'above', '', 'across', '', 'after', '']"
      ]
     },
     "execution_count": 122,
     "metadata": {},
     "output_type": "execute_result"
    }
   ],
   "source": [
    "stopwords[:10]"
   ]
  },
  {
   "cell_type": "code",
   "execution_count": 123,
   "metadata": {
    "collapsed": true
   },
   "outputs": [],
   "source": [
    "stopwords=[word.lstrip().rstrip() for word in open('stopwords.txt')]"
   ]
  },
  {
   "cell_type": "code",
   "execution_count": 124,
   "metadata": {
    "collapsed": true
   },
   "outputs": [],
   "source": [
    "def fun(line):\n",
    "    t=line.lower()\n",
    "    token=nltk.tokenize.word_tokenize(t)\n",
    "    token=[t for t in token if t not in stopwords]\n",
    "    token=[t for t in token if len(t)>2]\n",
    "    token=[wordnet_lemmatizer.lemmatize(t) for t in token]\n",
    "    token=[t for t in token if not any(c.isdigit() for c in t)]\n",
    "    return token"
   ]
  },
  {
   "cell_type": "code",
   "execution_count": 125,
   "metadata": {
    "collapsed": false
   },
   "outputs": [],
   "source": [
    "word_dict={}\n",
    "index=0\n",
    "all_tokens=[]\n",
    "token_list=[]\n",
    "\n",
    "for line in text:\n",
    "    try:\n",
    "        line=line.encode('ascii','ignore')\n",
    "        tokens=fun(line)\n",
    "        all_tokens.append(tokens)\n",
    "        for t in tokens:\n",
    "            if t not in word_dict:\n",
    "                word_dict[t]=index\n",
    "                index+=1\n",
    "                token_list.append(t)\n",
    "                \n",
    "                \n",
    "    except:\n",
    "        pass\n",
    "        "
   ]
  },
  {
   "cell_type": "code",
   "execution_count": 126,
   "metadata": {
    "collapsed": false
   },
   "outputs": [],
   "source": [
    "def to_vect(tokens):\n",
    "    x=np.zeros(len(word_dict))\n",
    "    for t in tokens:\n",
    "        i=word_dict[t]\n",
    "        x[i]=1\n",
    "    return x\n",
    "\n",
    "\n",
    "N=len(all_tokens)\n",
    "D=len(word_dict)\n",
    "\n",
    "\n",
    "matrix=np.zeros((D,N))\n",
    "i=0\n",
    "for token in all_tokens:\n",
    "    matrix[:,i]=to_vect(token)\n",
    "    i+=1\n"
   ]
  },
  {
   "cell_type": "code",
   "execution_count": 127,
   "metadata": {
    "collapsed": false
   },
   "outputs": [],
   "source": [
    "\n",
    "def main():\n",
    "    svd = TruncatedSVD()\n",
    "    model=svd.fit_transform(matrix)\n",
    "    plt.scatter(model[:,0], model[:,1])\n",
    "    for i in xrange(D):\n",
    "        plt.annotate(s=token_list[i], xy=(model[i,0], model[i,1]))\n",
    "    plt.show()\n",
    "\n",
    "if __name__ == '__main__':\n",
    "    main()"
   ]
  },
  {
   "cell_type": "code",
   "execution_count": null,
   "metadata": {
    "collapsed": true
   },
   "outputs": [],
   "source": []
  }
 ],
 "metadata": {
  "kernelspec": {
   "display_name": "Python 2",
   "language": "python",
   "name": "python2"
  },
  "language_info": {
   "codemirror_mode": {
    "name": "ipython",
    "version": 2
   },
   "file_extension": ".py",
   "mimetype": "text/x-python",
   "name": "python",
   "nbconvert_exporter": "python",
   "pygments_lexer": "ipython2",
   "version": "2.7.11"
  }
 },
 "nbformat": 4,
 "nbformat_minor": 0
}
